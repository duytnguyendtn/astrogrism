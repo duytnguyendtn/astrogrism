{
 "cells": [
  {
   "cell_type": "markdown",
   "id": "2949dc4b",
   "metadata": {},
   "source": [
    "# Cross-Dispersion Width Investigation\n",
    "Ricky reported a concern looking at some of the preliminary simulations that the trace produced by astrogrism's simulation module had a thicker trace than the original source. This notebook details my investigation to confirm the validity of the cross-dispersion width produced by the Astrogrism Simulation feature introduced in https://github.com/spacetelescope/astrogrism/pull/19\n",
    "\n",
    "At the time of writing, the PR produced above does not include any subpixel dispersions; the results are \"floor'ed\" to the lower pixel coordinate. As a result, this notebook expects the simulation module to produce a trace that is +/- 1 pixel the size of the original source"
   ]
  },
  {
   "cell_type": "markdown",
   "id": "e65dc985",
   "metadata": {},
   "source": [
    "## Simulated Sources\n",
    "My first step to verify the cross-dispersion width was to begin with creating some targets of varying sizes and seeing how the trace is produced. Starting with a blank numpy array, the following cell creates five sources, each of varying widths starting from 1 pixel to 5 pixels wide. "
   ]
  },
  {
   "cell_type": "code",
   "execution_count": 1,
   "id": "958ac9ab",
   "metadata": {},
   "outputs": [],
   "source": [
    "import matplotlib.pyplot as plt\n",
    "from jdaviz import Imviz"
   ]
  },
  {
   "cell_type": "code",
   "execution_count": 2,
   "id": "7ef22051",
   "metadata": {},
   "outputs": [
    {
     "data": {
      "text/plain": [
       "(500, 300)"
      ]
     },
     "execution_count": 2,
     "metadata": {},
     "output_type": "execute_result"
    }
   ],
   "source": [
    "import numpy as np\n",
    "data = np.zeros((500,300))\n",
    "\n",
    "#One pixel wide\n",
    "data[480,10] = 1\n",
    "#Two pixel wide\n",
    "data[480,20] = 1\n",
    "data[480,21] = 1\n",
    "#3\n",
    "data[480,30] = 1\n",
    "data[480,31] = 1\n",
    "data[480,32] = 1\n",
    "#4\n",
    "data[480,40] = 1\n",
    "data[480,41] = 1\n",
    "data[480,42] = 1\n",
    "data[480,43] = 1\n",
    "#5\n",
    "data[480,50] = 1\n",
    "data[480,51] = 1\n",
    "data[480,52] = 1\n",
    "data[480,53] = 1\n",
    "data[480,54] = 1\n",
    "data.shape"
   ]
  },
  {
   "cell_type": "code",
   "execution_count": 3,
   "id": "0c1f1ec0",
   "metadata": {},
   "outputs": [
    {
     "name": "stderr",
     "output_type": "stream",
     "text": [
      "[========================================================================] 100%\n"
     ]
    }
   ],
   "source": [
    "from astrogrism.simulate import simulate_grism\n",
    "grism_simulation = simulate_grism('G280', data, detector=1)\n",
    "#plt.imshow(grism_simulation, origin = 'lower')\n",
    "#plt.show()"
   ]
  },
  {
   "cell_type": "code",
   "execution_count": 4,
   "id": "c6a125ac",
   "metadata": {},
   "outputs": [
    {
     "data": {
      "application/vnd.jupyter.widget-view+json": {
       "model_id": "d8e0559c368547ecbd06a6278324e389",
       "version_major": 2,
       "version_minor": 0
      },
      "text/plain": [
       "Application(config='imviz', events=['call_viewer_method', 'close_snackbar_message', 'data_item_selected', 'des…"
      ]
     },
     "metadata": {},
     "output_type": "display_data"
    }
   ],
   "source": [
    "imviz = Imviz()\n",
    "imviz.load_data(grism_simulation)\n",
    "imviz.app"
   ]
  },
  {
   "cell_type": "markdown",
   "id": "19c69e6b",
   "metadata": {},
   "source": [
    "## "
   ]
  },
  {
   "cell_type": "code",
   "execution_count": 5,
   "id": "48129a9d",
   "metadata": {},
   "outputs": [
    {
     "name": "stderr",
     "output_type": "stream",
     "text": [
      "WARNING:py.warnings:E:\\STScI\\gitRepos\\astrogrism\\envmain\\lib\\site-packages\\glue\\viewers\\common\\viewer.py:186: UserWarning: Add large data set?\n",
      "  warnings.warn(message)\n",
      "\n",
      "2022-04-27 16:53:45,266 - stpipe - WARNING - E:\\STScI\\gitRepos\\astrogrism\\envmain\\lib\\site-packages\\glue\\viewers\\common\\viewer.py:186: UserWarning: Add large data set?\n",
      "  warnings.warn(message)\n",
      "\n",
      "WARNING:stpipe:E:\\STScI\\gitRepos\\astrogrism\\envmain\\lib\\site-packages\\glue\\viewers\\common\\viewer.py:186: UserWarning: Add large data set?\n",
      "  warnings.warn(message)\n",
      "\n"
     ]
    },
    {
     "data": {
      "application/vnd.jupyter.widget-view+json": {
       "model_id": "aa5e2fa9af6f4d11b9af1dc9507416c5",
       "version_major": 2,
       "version_minor": 0
      },
      "text/plain": [
       "Application(config='imviz', events=['call_viewer_method', 'close_snackbar_message', 'data_item_selected', 'des…"
      ]
     },
     "metadata": {},
     "output_type": "display_data"
    }
   ],
   "source": [
    "imviz = Imviz()\n",
    "imviz.load_data('sim1_rings.v3.skycell.1709.094.stk.g.unconv.fits')\n",
    "imviz.load_data('sim1_2022-03-04_GrismSimulation.fits')\n",
    "imviz.app"
   ]
  },
  {
   "cell_type": "code",
   "execution_count": 7,
   "id": "4e85b286",
   "metadata": {},
   "outputs": [
    {
     "data": {
      "text/plain": [
       "{'Subset 1': <RectanglePixelRegion(center=PixCoord(x=530.4849779750189, y=128.74151458420624), width=34.69706653984338, height=3.107199988642691, angle=0.0 deg)>,\n",
       " 'Subset 2': <RectanglePixelRegion(center=PixCoord(x=533.6719995966346, y=213.44921247343734), width=50.44416270636384, height=4.323785374831175, angle=0.0 deg)>}"
      ]
     },
     "execution_count": 7,
     "metadata": {},
     "output_type": "execute_result"
    }
   ],
   "source": [
    "imviz.get_interactive_regions()"
   ]
  },
  {
   "cell_type": "code",
   "execution_count": 8,
   "id": "63e49e26",
   "metadata": {},
   "outputs": [],
   "source": [
    "from jdaviz import Mosviz"
   ]
  },
  {
   "cell_type": "code",
   "execution_count": null,
   "id": "3340919a",
   "metadata": {},
   "outputs": [],
   "source": []
  }
 ],
 "metadata": {
  "kernelspec": {
   "display_name": "Python 3 (ipykernel)",
   "language": "python",
   "name": "python3"
  },
  "language_info": {
   "codemirror_mode": {
    "name": "ipython",
    "version": 3
   },
   "file_extension": ".py",
   "mimetype": "text/x-python",
   "name": "python",
   "nbconvert_exporter": "python",
   "pygments_lexer": "ipython3",
   "version": "3.9.7"
  }
 },
 "nbformat": 4,
 "nbformat_minor": 5
}
