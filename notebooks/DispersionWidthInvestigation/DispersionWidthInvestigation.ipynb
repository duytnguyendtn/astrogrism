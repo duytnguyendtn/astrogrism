{
 "cells": [
  {
   "cell_type": "markdown",
   "id": "2949dc4b",
   "metadata": {},
   "source": [
    "# Cross-Dispersion Width Investigation\n",
    "Ricky reported a concern looking at some of the preliminary simulations that the trace produced by astrogrism's simulation module had a thicker trace than the original source. This notebook details my investigation to confirm the validity of the cross-dispersion width produced by the Astrogrism Simulation feature introduced in https://github.com/spacetelescope/astrogrism/pull/19\n",
    "\n",
    "At the time of writing, the PR produced above does not include any subpixel dispersions; the results are \"floor'ed\" to the lower pixel coordinate. As a result, this notebook expects the simulation module to produce a trace that is +/- 1 pixel the size of the original source"
   ]
  },
  {
   "cell_type": "markdown",
   "id": "e65dc985",
   "metadata": {},
   "source": [
    "## Simulated Sources\n",
    "My first step to verify the cross-dispersion width was to begin with creating some targets of varying sizes and seeing how the trace is produced. Starting with a blank numpy array, the following cell creates five sources, each of varying widths starting from 1 pixel to 5 pixels wide. "
   ]
  },
  {
   "cell_type": "code",
   "execution_count": 2,
   "id": "958ac9ab",
   "metadata": {},
   "outputs": [],
   "source": [
    "import matplotlib.pyplot as plt\n",
    "from jdaviz import Imviz"
   ]
  },
  {
   "cell_type": "code",
   "execution_count": 2,
   "id": "7ef22051",
   "metadata": {},
   "outputs": [
    {
     "data": {
      "text/plain": [
       "(500, 300)"
      ]
     },
     "execution_count": 2,
     "metadata": {},
     "output_type": "execute_result"
    }
   ],
   "source": [
    "import numpy as np\n",
    "data = np.zeros((500,300))\n",
    "\n",
    "#One pixel wide\n",
    "data[480,10] = 1\n",
    "#Two pixel wide\n",
    "data[480,20] = 1\n",
    "data[480,21] = 1\n",
    "#3\n",
    "data[480,30] = 1\n",
    "data[480,31] = 1\n",
    "data[480,32] = 1\n",
    "#4\n",
    "data[480,40] = 1\n",
    "data[480,41] = 1\n",
    "data[480,42] = 1\n",
    "data[480,43] = 1\n",
    "#5\n",
    "data[480,50] = 1\n",
    "data[480,51] = 1\n",
    "data[480,52] = 1\n",
    "data[480,53] = 1\n",
    "data[480,54] = 1\n",
    "data.shape"
   ]
  },
  {
   "cell_type": "code",
   "execution_count": 3,
   "id": "0c1f1ec0",
   "metadata": {},
   "outputs": [
    {
     "name": "stderr",
     "output_type": "stream",
     "text": [
      "[================================================================================================================================================] 100%\n"
     ]
    },
    {
     "data": {
      "application/vnd.jupyter.widget-view+json": {
       "model_id": "509c0ecf55184a09a3d6e177b9b59cbd",
       "version_major": 2,
       "version_minor": 0
      },
      "text/plain": [
       "Application(config='imviz', events=['call_viewer_method', 'close_snackbar_message', 'data_item_selected', 'des…"
      ]
     },
     "metadata": {},
     "output_type": "display_data"
    }
   ],
   "source": [
    "from astrogrism.simulate import simulate_grism\n",
    "grism_simulation = simulate_grism('G280', data, detector=1)\n",
    "#plt.imshow(grism_simulation, origin = 'lower')\n",
    "#plt.show()\n",
    "\n",
    "imviz = Imviz()\n",
    "imviz.load_data(grism_simulation)\n",
    "imviz.app"
   ]
  },
  {
   "cell_type": "markdown",
   "id": "4a390518-940d-49c8-99d3-6dced8ebfc6b",
   "metadata": {},
   "source": [
    "If we look closely at the above traces, each trace seems to respect our expectations"
   ]
  },
  {
   "cell_type": "code",
   "execution_count": 7,
   "id": "d6dc05b5-4008-42de-8e75-7b2cb4861a8a",
   "metadata": {},
   "outputs": [],
   "source": [
    "viewer = imviz.default_viewer\n",
    "viewer.center_on((200, 290))\n",
    "viewer.zoom_level = 10"
   ]
  },
  {
   "cell_type": "markdown",
   "id": "19c69e6b",
   "metadata": {},
   "source": [
    "## Previous Simulation Analysis\n",
    "\n",
    "The next kind of analysis that comes to mind is to look back at our old simulations and inspect the traces there, since that was where we ran into this issue originally. The following is the first simulation I ran against a TESS observation of M44 (I think?)"
   ]
  },
  {
   "cell_type": "code",
   "execution_count": 8,
   "id": "ab762c58-3cc0-4ca7-880c-87162c17589c",
   "metadata": {},
   "outputs": [
    {
     "name": "stderr",
     "output_type": "stream",
     "text": [
      "2022-04-28 15:31:39,269 - stpipe - WARNING - /Users/dnguyen/duydir/astrogrism/envmain/lib/python3.10/site-packages/glue/viewers/common/viewer.py:186: UserWarning: Add large data set?\n",
      "  warnings.warn(message)\n",
      "\n"
     ]
    },
    {
     "data": {
      "application/vnd.jupyter.widget-view+json": {
       "model_id": "5904b31906e74e9c8e864e42957890f1",
       "version_major": 2,
       "version_minor": 0
      },
      "text/plain": [
       "Application(config='imviz', events=['call_viewer_method', 'close_snackbar_message', 'data_item_selected', 'des…"
      ]
     },
     "metadata": {},
     "output_type": "display_data"
    }
   ],
   "source": [
    "imviz_sim1 = Imviz()\n",
    "# Load the direct image and astrogrism simulation\n",
    "imviz_sim1.load_data('sim1_rings.v3.skycell.1709.094.stk.g.unconv.fits')\n",
    "imviz_sim1.load_data('sim1_2022-03-04_GrismSimulation.fits')\n",
    "simulation_image = imviz_sim1.app.get_data_from_viewer('imviz-0', 'sim1_2022-03-04_GrismSimulation[PRIMARY,1]')\n",
    "# Remove the simulation from the default viewer\n",
    "viewer_direct_image = imviz_sim1.app.get_viewer_by_id(\"imviz-0\")\n",
    "imviz_sim1.app.remove_data_from_viewer(\"imviz-0\", 'sim1_2022-03-04_GrismSimulation[PRIMARY,1]')\n",
    "# Create a new viewer and show the simulation on that viewer\n",
    "simulation_viewer = imviz_sim1.create_image_viewer()\n",
    "imviz_sim1.app.add_data_to_viewer(\"imviz-1\", 'sim1_2022-03-04_GrismSimulation[PRIMARY,1]')\n",
    "imviz_sim1.app"
   ]
  },
  {
   "cell_type": "markdown",
   "id": "42a8d4e9-be52-4641-b1dd-bc9007a672ea",
   "metadata": {},
   "source": [
    "This cell zooms the two viewers into roughly the right place; this has to be done manually because the simulation package does not write the wcs to the simulation at this time"
   ]
  },
  {
   "cell_type": "code",
   "execution_count": 11,
   "id": "8fe52ecb-2be8-466c-b250-fa055bc598d1",
   "metadata": {},
   "outputs": [],
   "source": [
    "viewer_direct_image.center_on((500,500))\n",
    "viewer_direct_image.zoom(7)\n",
    "simulation_viewer.center_on((500,500))"
   ]
  },
  {
   "cell_type": "markdown",
   "id": "b9c3a1a9-831f-4d08-8bc7-7c879eaea239",
   "metadata": {},
   "source": [
    "The best way, that I can think of, to quantitatively analyze the width of these two is to select a target, cut out the both the direct image and the dispersed trace, then do collapse to view the flux across the cross-dispersion axis. So we'll select a star that is largely isolated and cut that one out:"
   ]
  },
  {
   "cell_type": "code",
   "execution_count": 12,
   "id": "4ad4b930-91ce-42ba-961c-d675a6e5fd2b",
   "metadata": {},
   "outputs": [],
   "source": [
    "viewer_direct_image.center_on((353,271))\n",
    "viewer_direct_image.zoom(5)\n",
    "simulation_viewer.center_on((353,360))\n",
    "simulation_viewer.zoom(5)"
   ]
  },
  {
   "cell_type": "markdown",
   "id": "1af90d82-b82a-4058-b1f6-9f619e0ccb80",
   "metadata": {},
   "source": [
    "And now we'll cut these out and take a peak at what we'll be collapsing:"
   ]
  },
  {
   "cell_type": "code",
   "execution_count": 13,
   "id": "390097d5-088a-4332-8e58-606065b904bd",
   "metadata": {},
   "outputs": [],
   "source": [
    "direct_image_cutout = imviz_sim1.app.get_data_from_viewer('imviz-0', 'sim1_rings.v3.skycell.1709.094.stk.g.unconv[COMPRESSED_IMAGE,1]')[250:300, 324:384]\n",
    "simulated_trace_cutout = simulation_image[300:500, 325:385]"
   ]
  },
  {
   "cell_type": "code",
   "execution_count": 14,
   "id": "0f58fdfb-9545-4e92-b7cd-028d1242f202",
   "metadata": {},
   "outputs": [
    {
     "data": {
      "application/vnd.jupyter.widget-view+json": {
       "model_id": "3fbfe7ab262f40bd97caca9b248f28df",
       "version_major": 2,
       "version_minor": 0
      },
      "text/plain": [
       "Application(config='imviz', events=['call_viewer_method', 'close_snackbar_message', 'data_item_selected', 'des…"
      ]
     },
     "metadata": {},
     "output_type": "display_data"
    }
   ],
   "source": [
    "imviz_sim1_cutouts = Imviz()\n",
    "# Load the direct image and astrogrism simulation\n",
    "imviz_sim1_cutouts.load_data(direct_image_cutout, data_label=\"Direct cutout\")\n",
    "imviz_sim1_cutouts.load_data(simulated_trace_cutout, data_label=\"Simulated cutout\")\n",
    "# Remove the simulation from the default viewer\n",
    "imviz_sim1_cutouts.app.remove_data_from_viewer(\"imviz-0\", 'Simulated cutout[DATA]')\n",
    "# Create a new viewer and show the simulation on that viewer\n",
    "simulation_viewer = imviz_sim1_cutouts.create_image_viewer()\n",
    "imviz_sim1_cutouts.app.add_data_to_viewer(\"imviz-1\", 'Simulated cutout[DATA]')\n",
    "imviz_sim1_cutouts.app"
   ]
  },
  {
   "cell_type": "markdown",
   "id": "1b568be5-edb5-4087-b966-56309a2a3c84",
   "metadata": {},
   "source": [
    "To compare the two collapsed flux arrays, I'll do a very rough normalization just to see them next to one another"
   ]
  },
  {
   "cell_type": "code",
   "execution_count": 15,
   "id": "a23757aa-1489-4b80-8ea3-4d909f3ea2b7",
   "metadata": {},
   "outputs": [],
   "source": [
    "direct_image_collapsed = direct_image_cutout.data.sum(axis=0)\n",
    "direct_image_collapsed = direct_image_collapsed / max(direct_image_collapsed)\n",
    "simulated_trace_collapsed = simulated_trace_cutout.data.sum(axis=0)\n",
    "simulated_trace_collapsed = simulated_trace_collapsed / max(simulated_trace_collapsed)"
   ]
  },
  {
   "cell_type": "code",
   "execution_count": 16,
   "id": "6bfde298-2dad-40ac-8539-77a825ad0198",
   "metadata": {},
   "outputs": [
    {
     "data": {
      "image/png": "[encoded data removed]",
      "text/plain": [
       "<Figure size 432x288 with 1 Axes>"
      ]
     },
     "metadata": {
      "needs_background": "light"
     },
     "output_type": "display_data"
    }
   ],
   "source": [
    "plt.plot(simulated_trace_collapsed, label=\"simulation\")\n",
    "plt.plot(direct_image_collapsed, label=\"direct image\")\n",
    "plt.legend()\n",
    "plt.show()"
   ]
  },
  {
   "cell_type": "markdown",
   "id": "49c41ac2-72ae-467a-94b4-87897e87d6b8",
   "metadata": {},
   "source": [
    "Looking at these two profiles, it actually looks like the simulation's cross-dispersion profile is *narrower* than the direct image. But at that, the difference is quite small. It is very important for this analysis to note that Astrogrism's simulate feature produces a simulation that has the **same pixelscale** as the original input image, making this direct comparison possible"
   ]
  },
  {
   "cell_type": "markdown",
   "id": "5733f84f-06ba-433d-b241-01ba81fd1d13",
   "metadata": {},
   "source": [
    "## Comparison with real HST grism simulation\n",
    "This last comparison actualy compares the result of an astrogrism simulation against that of a real grism observation by HST. The following two observations were conducted in 2009 with the direct being observed by F098W and the dispersed by G102 on HST"
   ]
  },
  {
   "cell_type": "code",
   "execution_count": 3,
   "id": "ee4ca676-a1cc-4aef-b63c-0845a7182102",
   "metadata": {},
   "outputs": [
    {
     "name": "stderr",
     "output_type": "stream",
     "text": [
      "WARNING: Some non-standard WCS keywords were excluded: A_ORDER, A_0_2, A_0_3, A_0_4, A_1_1, A_1_2, A_1_3, A_2_0, A_2_1, A_2_2, A_3_0, A_3_1, A_4_0, B_ORDER, B_0_2, B_0_3, B_0_4, B_1_1, B_1_2, B_1_3, B_2_0, B_2_1, B_2_2, B_3_0, B_3_1, B_4_0 Use the ``relax`` kwarg to control this. [astropy.wcs.wcs]\n",
      "WARNING: Some non-standard WCS keywords were excluded: A_ORDER, A_0_2, A_0_3, A_0_4, A_1_1, A_1_2, A_1_3, A_2_0, A_2_1, A_2_2, A_3_0, A_3_1, A_4_0, B_ORDER, B_0_2, B_0_3, B_0_4, B_1_1, B_1_2, B_1_3, B_2_0, B_2_1, B_2_2, B_3_0, B_3_1, B_4_0 Use the ``relax`` kwarg to control this. [astropy.wcs.wcs]\n",
      "WARNING:astropy:Some non-standard WCS keywords were excluded: A_ORDER, A_0_2, A_0_3, A_0_4, A_1_1, A_1_2, A_1_3, A_2_0, A_2_1, A_2_2, A_3_0, A_3_1, A_4_0, B_ORDER, B_0_2, B_0_3, B_0_4, B_1_1, B_1_2, B_1_3, B_2_0, B_2_1, B_2_2, B_3_0, B_3_1, B_4_0 Use the ``relax`` kwarg to control this.\n"
     ]
    },
    {
     "data": {
      "application/vnd.jupyter.widget-view+json": {
       "model_id": "a6d8d7e2a5ca4897b625b3fd7fd7c78a",
       "version_major": 2,
       "version_minor": 0
      },
      "text/plain": [
       "Application(config='imviz', events=['call_viewer_method', 'close_snackbar_message', 'data_item_selected', 'des…"
      ]
     },
     "metadata": {},
     "output_type": "display_data"
    }
   ],
   "source": [
    "imviz_real_obs = Imviz()\n",
    "# Load real direct and dispersed data\n",
    "imviz_real_obs.load_data('WFC3_G102_Direct_ib6o21qnq_flt.fits', data_label='Direct')\n",
    "imviz_real_obs.load_data('WFC3_G102_Grism_ib6o21qnq_flt.fits', data_label='Grism')\n",
    "# Remove Dispersed data from the first viewer (to add to the second)\n",
    "imviz_real_obs.app.remove_data_from_viewer(\"imviz-0\", 'Grism[SCI,1]')\n",
    "# Create a new viewer and show the simulation on that viewer\n",
    "imviz_real_obs.create_image_viewer()\n",
    "imviz_real_obs.app.add_data_to_viewer(\"imviz-1\", 'Grism[SCI,1]')\n",
    "imviz_real_obs.app"
   ]
  },
  {
   "cell_type": "code",
   "execution_count": 4,
   "id": "2ea93d3b-c66e-488b-9d9f-e5050120b577",
   "metadata": {},
   "outputs": [
    {
     "name": "stderr",
     "output_type": "stream",
     "text": [
      "[===                                                                                                                                    ]   2%\r"
     ]
    },
    {
     "ename": "KeyboardInterrupt",
     "evalue": "",
     "output_type": "error",
     "traceback": [
      "\u001b[0;31m---------------------------------------------------------------------------\u001b[0m",
      "\u001b[0;31mKeyboardInterrupt\u001b[0m                         Traceback (most recent call last)",
      "Input \u001b[0;32mIn [4]\u001b[0m, in \u001b[0;36m<cell line: 2>\u001b[0;34m()\u001b[0m\n\u001b[1;32m      1\u001b[0m \u001b[38;5;28;01mfrom\u001b[39;00m \u001b[38;5;21;01mastrogrism\u001b[39;00m\u001b[38;5;21;01m.\u001b[39;00m\u001b[38;5;21;01msimulate\u001b[39;00m \u001b[38;5;28;01mimport\u001b[39;00m simulate_grism\n\u001b[0;32m----> 2\u001b[0m G102_simulation \u001b[38;5;241m=\u001b[39m \u001b[43msimulate_grism\u001b[49m\u001b[43m(\u001b[49m\u001b[38;5;124;43m'\u001b[39;49m\u001b[38;5;124;43mG102\u001b[39;49m\u001b[38;5;124;43m'\u001b[39;49m\u001b[43m,\u001b[49m\u001b[43m \u001b[49m\u001b[43mimviz_real_obs\u001b[49m\u001b[38;5;241;43m.\u001b[39;49m\u001b[43mapp\u001b[49m\u001b[38;5;241;43m.\u001b[39;49m\u001b[43mget_data_from_viewer\u001b[49m\u001b[43m(\u001b[49m\u001b[38;5;124;43m'\u001b[39;49m\u001b[38;5;124;43mimviz-0\u001b[39;49m\u001b[38;5;124;43m'\u001b[39;49m\u001b[43m,\u001b[49m\u001b[43m \u001b[49m\u001b[38;5;124;43m'\u001b[39;49m\u001b[38;5;124;43mDirect[SCI,1]\u001b[39;49m\u001b[38;5;124;43m'\u001b[39;49m\u001b[43m)\u001b[49m\u001b[38;5;241;43m.\u001b[39;49m\u001b[43mdata\u001b[49m\u001b[43m)\u001b[49m\n",
      "File \u001b[0;32m~/duydir/astrogrism/astrogrism/simulate/simulate.py:217\u001b[0m, in \u001b[0;36msimulate_grism\u001b[0;34m(grism, wide_field_image, detector, spectrum)\u001b[0m\n\u001b[1;32m    215\u001b[0m \u001b[38;5;28;01mif\u001b[39;00m \u001b[38;5;129;01mnot\u001b[39;00m spectrum:\n\u001b[1;32m    216\u001b[0m     spectrum \u001b[38;5;241m=\u001b[39m generate_synthetic_spectrum(grism, detector)\n\u001b[0;32m--> 217\u001b[0m \u001b[38;5;28;01mreturn\u001b[39;00m \u001b[43mdisperse_spectrum_on_image\u001b[49m\u001b[43m(\u001b[49m\u001b[38;5;28;43mstr\u001b[39;49m\u001b[43m(\u001b[49m\u001b[43mgrism_file\u001b[49m\u001b[43m)\u001b[49m\u001b[43m,\u001b[49m\u001b[43m \u001b[49m\u001b[43mwide_field_image\u001b[49m\u001b[43m,\u001b[49m\u001b[43m \u001b[49m\u001b[43mspectrum\u001b[49m\u001b[43m,\u001b[49m\u001b[43m \u001b[49m\u001b[43mdetector\u001b[49m\u001b[43m)\u001b[49m\n",
      "File \u001b[0;32m~/duydir/astrogrism/astrogrism/simulate/simulate.py:177\u001b[0m, in \u001b[0;36mdisperse_spectrum_on_image\u001b[0;34m(grism_file, wide_field_image, spectrum, detector)\u001b[0m\n\u001b[1;32m    172\u001b[0m             \u001b[38;5;66;03m# If the dispersed position of the wavelength is inside the bounds of the image,\u001b[39;00m\n\u001b[1;32m    173\u001b[0m             \u001b[38;5;66;03m# write the spectrum\u001b[39;00m\n\u001b[1;32m    174\u001b[0m             \u001b[38;5;28;01mif\u001b[39;00m (\u001b[38;5;241m0\u001b[39m \u001b[38;5;241m<\u001b[39m dispersed_x \u001b[38;5;241m<\u001b[39m simulated_data\u001b[38;5;241m.\u001b[39mshape[\u001b[38;5;241m0\u001b[39m]) \u001b[38;5;129;01mand\u001b[39;00m (\u001b[38;5;241m0\u001b[39m \u001b[38;5;241m<\u001b[39m dispersed_y \u001b[38;5;241m<\u001b[39m simulated_data\u001b[38;5;241m.\u001b[39mshape[\u001b[38;5;241m1\u001b[39m]): \u001b[38;5;66;03m# noqa\u001b[39;00m\n\u001b[1;32m    175\u001b[0m                 \u001b[38;5;66;03m# Scale the flux of the spectrum to the brightness of the original pixel\u001b[39;00m\n\u001b[1;32m    176\u001b[0m                 \u001b[38;5;66;03m# TBF: Substitute floor with proper subpixel drizzling\u001b[39;00m\n\u001b[0;32m--> 177\u001b[0m                 simulated_data[floor(dispersed_x)][floor(dispersed_y)] \u001b[38;5;241m+\u001b[39m\u001b[38;5;241m=\u001b[39m (\u001b[43mdata_flux\u001b[49m\u001b[43m \u001b[49m\u001b[38;5;241;43m*\u001b[39;49m\u001b[43m \u001b[49m\u001b[43mspectrum_flux\u001b[49m)\u001b[38;5;241m.\u001b[39mvalue \u001b[38;5;66;03m# noqa\u001b[39;00m\n\u001b[1;32m    178\u001b[0m bar\u001b[38;5;241m.\u001b[39mfinish()\n\u001b[1;32m    179\u001b[0m \u001b[38;5;28;01mreturn\u001b[39;00m simulated_data\n",
      "File \u001b[0;32m~/duydir/astrogrism/envmain/lib/python3.10/site-packages/astropy/units/quantity.py:593\u001b[0m, in \u001b[0;36mQuantity.__array_ufunc__\u001b[0;34m(self, function, method, *inputs, **kwargs)\u001b[0m\n\u001b[1;32m    571\u001b[0m \u001b[38;5;124;03m\"\"\"Wrap numpy ufuncs, taking care of units.\u001b[39;00m\n\u001b[1;32m    572\u001b[0m \n\u001b[1;32m    573\u001b[0m \u001b[38;5;124;03mParameters\u001b[39;00m\n\u001b[0;32m   (...)\u001b[0m\n\u001b[1;32m    587\u001b[0m \u001b[38;5;124;03m    Results of the ufunc, with the unit set properly.\u001b[39;00m\n\u001b[1;32m    588\u001b[0m \u001b[38;5;124;03m\"\"\"\u001b[39;00m\n\u001b[1;32m    589\u001b[0m \u001b[38;5;66;03m# Determine required conversion functions -- to bring the unit of the\u001b[39;00m\n\u001b[1;32m    590\u001b[0m \u001b[38;5;66;03m# input to that expected (e.g., radian for np.sin), or to get\u001b[39;00m\n\u001b[1;32m    591\u001b[0m \u001b[38;5;66;03m# consistent units between two inputs (e.g., in np.add) --\u001b[39;00m\n\u001b[1;32m    592\u001b[0m \u001b[38;5;66;03m# and the unit of the result (or tuple of units for nout > 1).\u001b[39;00m\n\u001b[0;32m--> 593\u001b[0m converters, unit \u001b[38;5;241m=\u001b[39m \u001b[43mconverters_and_unit\u001b[49m\u001b[43m(\u001b[49m\u001b[43mfunction\u001b[49m\u001b[43m,\u001b[49m\u001b[43m \u001b[49m\u001b[43mmethod\u001b[49m\u001b[43m,\u001b[49m\u001b[43m \u001b[49m\u001b[38;5;241;43m*\u001b[39;49m\u001b[43minputs\u001b[49m\u001b[43m)\u001b[49m\n\u001b[1;32m    595\u001b[0m out \u001b[38;5;241m=\u001b[39m kwargs\u001b[38;5;241m.\u001b[39mget(\u001b[38;5;124m'\u001b[39m\u001b[38;5;124mout\u001b[39m\u001b[38;5;124m'\u001b[39m, \u001b[38;5;28;01mNone\u001b[39;00m)\n\u001b[1;32m    596\u001b[0m \u001b[38;5;66;03m# Avoid loop back by turning any Quantity output into array views.\u001b[39;00m\n",
      "File \u001b[0;32m~/duydir/astrogrism/envmain/lib/python3.10/site-packages/astropy/units/quantity_helper/converters.py:174\u001b[0m, in \u001b[0;36mconverters_and_unit\u001b[0;34m(function, method, *args)\u001b[0m\n\u001b[1;32m    171\u001b[0m units \u001b[38;5;241m=\u001b[39m [\u001b[38;5;28mgetattr\u001b[39m(arg, \u001b[38;5;124m'\u001b[39m\u001b[38;5;124munit\u001b[39m\u001b[38;5;124m'\u001b[39m, \u001b[38;5;28;01mNone\u001b[39;00m) \u001b[38;5;28;01mfor\u001b[39;00m arg \u001b[38;5;129;01min\u001b[39;00m args]\n\u001b[1;32m    173\u001b[0m \u001b[38;5;66;03m# Determine possible conversion functions, and the result unit.\u001b[39;00m\n\u001b[0;32m--> 174\u001b[0m converters, result_unit \u001b[38;5;241m=\u001b[39m \u001b[43mufunc_helper\u001b[49m\u001b[43m(\u001b[49m\u001b[43mfunction\u001b[49m\u001b[43m,\u001b[49m\u001b[43m \u001b[49m\u001b[38;5;241;43m*\u001b[39;49m\u001b[43munits\u001b[49m\u001b[43m)\u001b[49m\n\u001b[1;32m    176\u001b[0m \u001b[38;5;28;01mif\u001b[39;00m \u001b[38;5;28many\u001b[39m(converter \u001b[38;5;129;01mis\u001b[39;00m \u001b[38;5;28;01mFalse\u001b[39;00m \u001b[38;5;28;01mfor\u001b[39;00m converter \u001b[38;5;129;01min\u001b[39;00m converters):\n\u001b[1;32m    177\u001b[0m     \u001b[38;5;66;03m# for multi-argument ufuncs with a quantity and a non-quantity,\u001b[39;00m\n\u001b[1;32m    178\u001b[0m     \u001b[38;5;66;03m# the quantity normally needs to be dimensionless, *except*\u001b[39;00m\n\u001b[0;32m   (...)\u001b[0m\n\u001b[1;32m    181\u001b[0m     \u001b[38;5;66;03m# can just have the unit of the quantity\u001b[39;00m\n\u001b[1;32m    182\u001b[0m     \u001b[38;5;66;03m# (this allows, e.g., `q > 0.` independent of unit)\u001b[39;00m\n\u001b[1;32m    183\u001b[0m     \u001b[38;5;28;01mtry\u001b[39;00m:\n\u001b[1;32m    184\u001b[0m         \u001b[38;5;66;03m# Don't fold this loop in the test above: this rare case\u001b[39;00m\n\u001b[1;32m    185\u001b[0m         \u001b[38;5;66;03m# should not make the common case slower.\u001b[39;00m\n",
      "File \u001b[0;32m~/duydir/astrogrism/envmain/lib/python3.10/site-packages/astropy/units/quantity_helper/helpers.py:205\u001b[0m, in \u001b[0;36mhelper_multiplication\u001b[0;34m(f, unit1, unit2)\u001b[0m\n\u001b[1;32m    204\u001b[0m \u001b[38;5;28;01mdef\u001b[39;00m \u001b[38;5;21mhelper_multiplication\u001b[39m(f, unit1, unit2):\n\u001b[0;32m--> 205\u001b[0m     \u001b[38;5;28;01mreturn\u001b[39;00m [\u001b[38;5;28;01mNone\u001b[39;00m, \u001b[38;5;28;01mNone\u001b[39;00m], \u001b[43m_d\u001b[49m\u001b[43m(\u001b[49m\u001b[43munit1\u001b[49m\u001b[43m)\u001b[49m\u001b[43m \u001b[49m\u001b[38;5;241;43m*\u001b[39;49m\u001b[43m \u001b[49m\u001b[43m_d\u001b[49m\u001b[43m(\u001b[49m\u001b[43munit2\u001b[49m\u001b[43m)\u001b[49m\n",
      "File \u001b[0;32m~/duydir/astrogrism/envmain/lib/python3.10/site-packages/astropy/units/core.py:823\u001b[0m, in \u001b[0;36mUnitBase.__mul__\u001b[0;34m(self, m)\u001b[0m\n\u001b[1;32m    820\u001b[0m     m \u001b[38;5;241m=\u001b[39m Unit(m)\n\u001b[1;32m    822\u001b[0m \u001b[38;5;28;01mif\u001b[39;00m \u001b[38;5;28misinstance\u001b[39m(m, UnitBase):\n\u001b[0;32m--> 823\u001b[0m     \u001b[38;5;28;01mif\u001b[39;00m \u001b[43mm\u001b[49m\u001b[38;5;241;43m.\u001b[39;49m\u001b[43mis_unity\u001b[49m\u001b[43m(\u001b[49m\u001b[43m)\u001b[49m:\n\u001b[1;32m    824\u001b[0m         \u001b[38;5;28;01mreturn\u001b[39;00m \u001b[38;5;28mself\u001b[39m\n\u001b[1;32m    825\u001b[0m     \u001b[38;5;28;01melif\u001b[39;00m \u001b[38;5;28mself\u001b[39m\u001b[38;5;241m.\u001b[39mis_unity():\n",
      "File \u001b[0;32m~/duydir/astrogrism/envmain/lib/python3.10/site-packages/astropy/units/core.py:2172\u001b[0m, in \u001b[0;36mUnit.is_unity\u001b[0;34m(self)\u001b[0m\n\u001b[1;32m   2171\u001b[0m \u001b[38;5;28;01mdef\u001b[39;00m \u001b[38;5;21mis_unity\u001b[39m(\u001b[38;5;28mself\u001b[39m):\n\u001b[0;32m-> 2172\u001b[0m     \u001b[38;5;28;01mreturn\u001b[39;00m \u001b[38;5;28;43mself\u001b[39;49m\u001b[38;5;241;43m.\u001b[39;49m\u001b[43m_represents\u001b[49m\u001b[38;5;241;43m.\u001b[39;49m\u001b[43mis_unity\u001b[49m\u001b[43m(\u001b[49m\u001b[43m)\u001b[49m\n",
      "File \u001b[0;32m~/duydir/astrogrism/envmain/lib/python3.10/site-packages/astropy/units/core.py:2368\u001b[0m, in \u001b[0;36mCompositeUnit.is_unity\u001b[0;34m(self)\u001b[0m\n\u001b[1;32m   2367\u001b[0m \u001b[38;5;28;01mdef\u001b[39;00m \u001b[38;5;21mis_unity\u001b[39m(\u001b[38;5;28mself\u001b[39m):\n\u001b[0;32m-> 2368\u001b[0m     unit \u001b[38;5;241m=\u001b[39m \u001b[38;5;28;43mself\u001b[39;49m\u001b[38;5;241;43m.\u001b[39;49m\u001b[43mdecompose\u001b[49m\u001b[43m(\u001b[49m\u001b[43m)\u001b[49m\n\u001b[1;32m   2369\u001b[0m     \u001b[38;5;28;01mreturn\u001b[39;00m \u001b[38;5;28mlen\u001b[39m(unit\u001b[38;5;241m.\u001b[39mbases) \u001b[38;5;241m==\u001b[39m \u001b[38;5;241m0\u001b[39m \u001b[38;5;129;01mand\u001b[39;00m unit\u001b[38;5;241m.\u001b[39mscale \u001b[38;5;241m==\u001b[39m \u001b[38;5;241m1.0\u001b[39m\n",
      "File \u001b[0;32m~/duydir/astrogrism/envmain/lib/python3.10/site-packages/astropy/units/core.py:2348\u001b[0m, in \u001b[0;36mCompositeUnit.decompose\u001b[0;34m(self, bases)\u001b[0m\n\u001b[1;32m   2343\u001b[0m     \u001b[38;5;124;03m\"\"\"\u001b[39;00m\n\u001b[1;32m   2344\u001b[0m \u001b[38;5;124;03m    For compatibility with python copy module.\u001b[39;00m\n\u001b[1;32m   2345\u001b[0m \u001b[38;5;124;03m    \"\"\"\u001b[39;00m\n\u001b[1;32m   2346\u001b[0m     \u001b[38;5;28;01mreturn\u001b[39;00m CompositeUnit(\u001b[38;5;28mself\u001b[39m\u001b[38;5;241m.\u001b[39m_scale, \u001b[38;5;28mself\u001b[39m\u001b[38;5;241m.\u001b[39m_bases[:], \u001b[38;5;28mself\u001b[39m\u001b[38;5;241m.\u001b[39m_powers[:])\n\u001b[0;32m-> 2348\u001b[0m \u001b[38;5;28;01mdef\u001b[39;00m \u001b[38;5;21mdecompose\u001b[39m(\u001b[38;5;28mself\u001b[39m, bases\u001b[38;5;241m=\u001b[39m\u001b[38;5;28mset\u001b[39m()):\n\u001b[1;32m   2349\u001b[0m     \u001b[38;5;28;01mif\u001b[39;00m \u001b[38;5;28mlen\u001b[39m(bases) \u001b[38;5;241m==\u001b[39m \u001b[38;5;241m0\u001b[39m \u001b[38;5;129;01mand\u001b[39;00m \u001b[38;5;28mself\u001b[39m\u001b[38;5;241m.\u001b[39m_decomposed_cache \u001b[38;5;129;01mis\u001b[39;00m \u001b[38;5;129;01mnot\u001b[39;00m \u001b[38;5;28;01mNone\u001b[39;00m:\n\u001b[1;32m   2350\u001b[0m         \u001b[38;5;28;01mreturn\u001b[39;00m \u001b[38;5;28mself\u001b[39m\u001b[38;5;241m.\u001b[39m_decomposed_cache\n",
      "\u001b[0;31mKeyboardInterrupt\u001b[0m: "
     ]
    }
   ],
   "source": [
    "from astrogrism.simulate import simulate_grism\n",
    "G102_simulation = simulate_grism('G102', imviz_real_obs.app.get_data_from_viewer('imviz-0', 'Direct[SCI,1]').data)"
   ]
  },
  {
   "cell_type": "code",
   "execution_count": null,
   "id": "90bdf436-d003-491b-8dad-09ea3608ac18",
   "metadata": {},
   "outputs": [],
   "source": []
  }
 ],
 "metadata": {
  "kernelspec": {
   "display_name": "Python 3 (ipykernel)",
   "language": "python",
   "name": "python3"
  },
  "language_info": {
   "codemirror_mode": {
    "name": "ipython",
    "version": 3
   },
   "file_extension": ".py",
   "mimetype": "text/x-python",
   "name": "python",
   "nbconvert_exporter": "python",
   "pygments_lexer": "ipython3",
   "version": "3.10.4"
  }
 },
 "nbformat": 4,
 "nbformat_minor": 5
}
