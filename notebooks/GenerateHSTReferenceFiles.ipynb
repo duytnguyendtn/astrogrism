{
 "cells": [
  {
   "cell_type": "markdown",
   "id": "c419b79b",
   "metadata": {},
   "source": [
    "# Generate HST Reference Files\n",
    "This notebook demonstrates how to build the ASDF reference files (`specwcs`, `wavelengthrange`, and `distortion`) needed for Astrogrism from the original GRISMCONF configuration files"
   ]
  },
  {
   "cell_type": "markdown",
   "id": "5464a888",
   "metadata": {},
   "source": [
    "The generation scripts are stored with the included configuration files in the `astrogrism.config.HST` module. The actual generation scripts are stored in the `reference_file_generators` submodule, but an upper level convenience creation script is provided in the root configuration module:"
   ]
  },
  {
   "cell_type": "code",
   "execution_count": null,
   "id": "860a121c",
   "metadata": {},
   "outputs": [],
   "source": [
    "from astrogrism.HST import create_reference_files"
   ]
  },
  {
   "cell_type": "markdown",
   "id": "64928f13",
   "metadata": {},
   "source": [
    "This walkthrough will show how to generate the configuration files for the G141 IR Grism on WFC3, but the same can be used for the UVIS and ACS grisms as well"
   ]
  },
  {
   "cell_type": "code",
   "execution_count": null,
   "id": "cf32e0d3",
   "metadata": {},
   "outputs": [],
   "source": [
    "hst_grism = 'G141'"
   ]
  },
  {
   "cell_type": "markdown",
   "id": "a76a80e5",
   "metadata": {},
   "source": [
    "The first step is to download the GRISMCONF configuration file for the corresponding Grism."
   ]
  },
  {
   "cell_type": "code",
   "execution_count": null,
   "id": "27c7b3c3",
   "metadata": {},
   "outputs": [],
   "source": [
    "from astropy.utils.data import download_file\n",
    "from pathlib import Path\n",
    "conf_filepath = Path(download_file(\"https://raw.githubusercontent.com/npirzkal/GRISM_WFC3/master/IR/G141.conf\"))\n",
    "conf_filepath"
   ]
  },
  {
   "cell_type": "markdown",
   "id": "91fb5ee1",
   "metadata": {},
   "source": [
    "Next we need to know where to export the final ASDF reference files to. In this example, we'll generate a temporary directory, but you can replace this with whatever directory you'd like (so long as you have write access to it!) Setting this argument to `None` will attempt to generate the files in the user's current directory"
   ]
  },
  {
   "cell_type": "code",
   "execution_count": null,
   "id": "108807c8",
   "metadata": {},
   "outputs": [],
   "source": [
    "from tempfile import mkdtemp\n",
    "output_directory = Path(mkdtemp())\n",
    "output_directory"
   ]
  },
  {
   "cell_type": "markdown",
   "id": "d7f6bc7a",
   "metadata": {},
   "source": [
    "Now, it's just a matter of running the convenience script!"
   ]
  },
  {
   "cell_type": "code",
   "execution_count": null,
   "id": "97896235",
   "metadata": {},
   "outputs": [],
   "source": [
    "create_reference_files(conf_filepath, hst_grism, outpath=output_directory)"
   ]
  },
  {
   "cell_type": "code",
   "execution_count": null,
   "id": "2f141aae",
   "metadata": {},
   "outputs": [],
   "source": [
    "list(output_directory.iterdir())"
   ]
  }
 ],
 "metadata": {
  "interpreter": {
   "hash": "c1b8eeb265bb702460e9a0e61a4fe50ff7962bcd9116c5590f80d7fa70707d88"
  },
  "kernelspec": {
   "display_name": "Python 3 (ipykernel)",
   "language": "python",
   "name": "python3"
  },
  "language_info": {
   "codemirror_mode": {
    "name": "ipython",
    "version": 3
   },
   "file_extension": ".py",
   "mimetype": "text/x-python",
   "name": "python",
   "nbconvert_exporter": "python",
   "pygments_lexer": "ipython3",
   "version": "3.9.7"
  }
 },
 "nbformat": 4,
 "nbformat_minor": 5
}
