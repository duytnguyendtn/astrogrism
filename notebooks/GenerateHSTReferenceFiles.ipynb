{
 "cells": [
  {
   "cell_type": "markdown",
   "id": "c419b79b",
   "metadata": {},
   "source": [
    "# Generate HST Reference Files\n",
    "This notebook demonstrates how to build the ASDF reference files (`specwcs`, `wavelengthrange`, and `distortion`) needed for Astrogrism from the original GRISMCONF configuration files"
   ]
  },
  {
   "cell_type": "markdown",
   "id": "5464a888",
   "metadata": {},
   "source": [
    "The generation scripts are stored with the included configuration files in the `astrogrism.config.HST` module. The actual generation scripts are stored in the `reference_file_generators` submodule, but an upper level convenience creation script is provided in the root configuration module:"
   ]
  },
  {
   "cell_type": "code",
   "execution_count": 1,
   "id": "860a121c",
   "metadata": {},
   "outputs": [],
   "source": [
    "from astrogrism.config.HST import create_reference_files"
   ]
  },
  {
   "cell_type": "markdown",
   "id": "64928f13",
   "metadata": {},
   "source": [
    "This walkthrough will show how to generate the configuration files for the G141 IR Grism on WFC3, but the same can be used for the UVIS and ACS grisms as well"
   ]
  },
  {
   "cell_type": "code",
   "execution_count": 2,
   "metadata": {},
   "outputs": [],
   "source": [
    "hst_grism = 'G141'"
   ]
  },
  {
   "cell_type": "markdown",
   "metadata": {},
   "source": [
    "The first step is to download the GRISMCONF configuration file for the corresponding Grism."
   ]
  },
  {
   "cell_type": "code",
   "execution_count": 3,
   "id": "27c7b3c3",
   "metadata": {},
   "outputs": [
    {
     "data": {
      "text/plain": [
       "WindowsPath('C:/Users/Duy/AppData/Local/Temp/astropy-download-29828-uiwraesk')"
      ]
     },
     "execution_count": 3,
     "metadata": {},
     "output_type": "execute_result"
    }
   ],
   "source": [
    "from astropy.utils.data import download_file\n",
    "from pathlib import Path\n",
    "conf_filepath = Path(download_file(\"https://raw.githubusercontent.com/npirzkal/GRISM_WFC3/master/IR/G141.conf\"))\n",
    "conf_filepath"
   ]
  },
  {
   "cell_type": "markdown",
   "metadata": {},
   "source": [
    "Next we need to know where to export the final ASDF reference files to. In this example, we'll generate a temporary directory, but you can replace this with whatever directory you'd like (so long as you have write access to it!) Setting this argument to `None` will attempt to generate the files in the user's current directory"
   ]
  },
  {
   "cell_type": "code",
   "execution_count": 4,
   "metadata": {},
   "outputs": [
    {
     "data": {
      "text/plain": [
       "WindowsPath('C:/Users/Duy/AppData/Local/Temp/tmp6rytnkhb')"
      ]
     },
     "execution_count": 4,
     "metadata": {},
     "output_type": "execute_result"
    }
   ],
   "source": [
    "from tempfile import mkdtemp\n",
    "output_directory = Path(mkdtemp())\n",
    "output_directory"
   ]
  },
  {
   "cell_type": "markdown",
   "metadata": {},
   "source": [
    "Now, it's just a matter of running the convenience script!"
   ]
  },
  {
   "cell_type": "code",
   "execution_count": 5,
   "metadata": {},
   "outputs": [
    {
     "name": "stderr",
     "output_type": "stream",
     "text": [
      "2021-11-19 12:26:14,881 - stpipe - WARNING - e:\\STScI\\gitRepos\\astrogrism\\envmain\\lib\\site-packages\\stdatamodels\\validate.py:34: ValidationWarning: While validating exposure the following error occurred:\n",
      "'WFC3_TSGRISM' is not one of ['FGS_DARK', 'FGS_FOCUS', 'FGS_IMAGE', 'FGS_INTFLAT', 'FGS_SKYFLAT', 'FGS_ACQ1', 'FGS_ACQ2', 'FGS_FINEGUIDE', 'FGS_ID-IMAGE', 'FGS_ID-STACK', 'FGS_TRACK', 'MIR_4QPM', 'MIR_CORONCAL', 'MIR_DARKALL', 'MIR_DARKIMG', 'MIR_DARKMRS', 'MIR_FLATIMAGE', 'MIR_FLATIMAGE-EXT', 'MIR_FLATMRS', 'MIR_FLATMRS-EXT', 'MIR_IMAGE', 'MIR_LRS-FIXEDSLIT', 'MIR_LRS-SLITLESS', 'MIR_LYOT', 'MIR_MRS', 'MIR_TACONFIRM', 'MIR_TACQ', 'NIS_AMI', 'NIS_DARK', 'NIS_EXTCAL', 'NIS_FOCUS', 'NIS_IMAGE', 'NIS_LAMP', 'NIS_SOSS', 'NIS_TACQ', 'NIS_TACONFIRM', 'NIS_WFSS', 'NRC_CORON', 'NRC_DARK', 'NRC_FLAT', 'NRC_FOCUS', 'NRC_GRISM', 'NRC_IMAGE', 'NRC_WFSS', 'NRC_LED', 'NRC_WFSC', 'NRC_TACONFIRM', 'NRC_TACQ', 'NRC_TSGRISM', 'NRC_TSIMAGE', 'NRS_AUTOFLAT', 'NRS_AUTOWAVE', 'NRS_BRIGHTOBJ', 'NRS_CONFIRM', 'NRS_DARK', 'NRS_FIXEDSLIT', 'NRS_FOCUS', 'NRS_IFU', 'NRS_IMAGE', 'NRS_LAMP', 'NRS_MIMF', 'NRS_MSASPEC', 'NRS_MSATA', 'NRS_TACONFIRM', 'NRS_TACQ', 'NRS_TASLIT', 'NRS_VERIFY', 'NRS_WATA', 'N/A', 'ANY']\n",
      "\n",
      "Failed validating 'enum' in schema['properties']['type']:\n",
      "    OrderedDict([('title', 'Type of data in the exposure'),\n",
      "                 ('type', 'string'),\n",
      "                 ('enum',\n",
      "                  ['FGS_DARK',\n",
      "                   'FGS_FOCUS',\n",
      "                   'FGS_IMAGE',\n",
      "                   'FGS_INTFLAT',\n",
      "                   'FGS_SKYFLAT',\n",
      "                   'FGS_ACQ1',\n",
      "                   'FGS_ACQ2',\n",
      "                   'FGS_FINEGUIDE',\n",
      "                   'FGS_ID-IMAGE',\n",
      "                   'FGS_ID-STACK',\n",
      "                   'FGS_TRACK',\n",
      "                   'MIR_4QPM',\n",
      "                   'MIR_CORONCAL',\n",
      "                   'MIR_DARKALL',\n",
      "                   'MIR_DARKIMG',\n",
      "                   'MIR_DARKMRS',\n",
      "                   'MIR_FLATIMAGE',\n",
      "                   'MIR_FLATIMAGE-EXT',\n",
      "                   'MIR_FLATMRS',\n",
      "                   'MIR_FLATMRS-EXT',\n",
      "                   'MIR_IMAGE',\n",
      "                   'MIR_LRS-FIXEDSLIT',\n",
      "                   'MIR_LRS-SLITLESS',\n",
      "                   'MIR_LY ...\n",
      "  warnings.warn(errmsg, ValidationWarning)\n",
      "\n",
      "2021-11-19 12:26:14,884 - stpipe - WARNING - e:\\STScI\\gitRepos\\astrogrism\\envmain\\lib\\site-packages\\stdatamodels\\validate.py:34: ValidationWarning: While validating instrument the following error occurred:\n",
      "'WFC3' is not one of ['NIRCAM', 'NIRSPEC', 'MIRI', 'TFI', 'FGS', 'NIRISS', 'ANY', 'N/A']\n",
      "\n",
      "Failed validating 'enum' in schema['properties']['name']:\n",
      "    OrderedDict([('title', 'Instrument used to acquire the data'),\n",
      "                 ('type', 'string'),\n",
      "                 ('enum',\n",
      "                  ['NIRCAM',\n",
      "                   'NIRSPEC',\n",
      "                   'MIRI',\n",
      "                   'TFI',\n",
      "                   'FGS',\n",
      "                   'NIRISS',\n",
      "                   'ANY',\n",
      "                   'N/A']),\n",
      "                 ('fits_keyword', 'INSTRUME')])\n",
      "\n",
      "On instance['name']:\n",
      "    'WFC3'\n",
      "  warnings.warn(errmsg, ValidationWarning)\n",
      "\n",
      "2021-11-19 12:26:14,983 - stpipe - WARNING - e:\\STScI\\gitRepos\\astrogrism\\envmain\\lib\\site-packages\\jwst\\datamodels\\reference.py:47: ValidationWarning: Model.meta is missing values for ['instrument.name', 'telescope']\n",
      "  warnings.warn(message, ValidationWarning)\n",
      "\n",
      "2021-11-19 12:26:15,002 - stpipe - WARNING - e:\\STScI\\gitRepos\\astrogrism\\envmain\\lib\\site-packages\\jwst\\datamodels\\wcs_ref_models.py:435: ValidationWarning: Traceback (most recent call last):\n",
      "  File \"e:\\STScI\\gitRepos\\astrogrism\\envmain\\lib\\site-packages\\jwst\\datamodels\\wcs_ref_models.py\", line 430, in validate\n",
      "    assert self.meta.instrument.name in (\"MIRI\", \"NIRSPEC\", \"NIRCAM\", \"NIRISS\")\n",
      "AssertionError\n",
      "\n",
      "  warnings.warn(traceback.format_exc(), ValidationWarning)\n",
      "\n"
     ]
    },
    {
     "name": "stdout",
     "output_type": "stream",
     "text": [
      "Pupil is G141\n",
      "\n",
      "Reading C:\\Users\\Duy\\AppData\\Local\\Temp\\astropy-download-29828-uiwraesk  ...\n",
      "Orders: dict_keys(['+1', '0', '+2', '+3', '-1', '+4'])\n"
     ]
    },
    {
     "name": "stderr",
     "output_type": "stream",
     "text": [
      "2021-11-19 12:26:15,189 - stpipe - WARNING - e:\\STScI\\gitRepos\\astrogrism\\envmain\\lib\\site-packages\\stdatamodels\\validate.py:34: ValidationWarning: While validating name the following error occurred:\n",
      "'WFC3' is not one of ['NIRCAM', 'NIRSPEC', 'MIRI', 'TFI', 'FGS', 'NIRISS', 'ANY', 'N/A']\n",
      "\n",
      "Failed validating 'enum' in schema:\n",
      "    OrderedDict([('title', 'Instrument used to acquire the data'),\n",
      "                 ('type', 'string'),\n",
      "                 ('enum',\n",
      "                  ['NIRCAM',\n",
      "                   'NIRSPEC',\n",
      "                   'MIRI',\n",
      "                   'TFI',\n",
      "                   'FGS',\n",
      "                   'NIRISS',\n",
      "                   'ANY',\n",
      "                   'N/A']),\n",
      "                 ('fits_keyword', 'INSTRUME')])\n",
      "\n",
      "On instance:\n",
      "    'WFC3'\n",
      "  warnings.warn(errmsg, ValidationWarning)\n",
      "\n",
      "2021-11-19 12:26:15,193 - stpipe - WARNING - e:\\STScI\\gitRepos\\astrogrism\\envmain\\lib\\site-packages\\stdatamodels\\validate.py:34: ValidationWarning: While validating type the following error occurred:\n",
      "'IR_GRISM' is not one of ['FGS_DARK', 'FGS_FOCUS', 'FGS_IMAGE', 'FGS_INTFLAT', 'FGS_SKYFLAT', 'FGS_ACQ1', 'FGS_ACQ2', 'FGS_FINEGUIDE', 'FGS_ID-IMAGE', 'FGS_ID-STACK', 'FGS_TRACK', 'MIR_4QPM', 'MIR_CORONCAL', 'MIR_DARKALL', 'MIR_DARKIMG', 'MIR_DARKMRS', 'MIR_FLATIMAGE', 'MIR_FLATIMAGE-EXT', 'MIR_FLATMRS', 'MIR_FLATMRS-EXT', 'MIR_IMAGE', 'MIR_LRS-FIXEDSLIT', 'MIR_LRS-SLITLESS', 'MIR_LYOT', 'MIR_MRS', 'MIR_TACONFIRM', 'MIR_TACQ', 'NIS_AMI', 'NIS_DARK', 'NIS_EXTCAL', 'NIS_FOCUS', 'NIS_IMAGE', 'NIS_LAMP', 'NIS_SOSS', 'NIS_TACQ', 'NIS_TACONFIRM', 'NIS_WFSS', 'NRC_CORON', 'NRC_DARK', 'NRC_FLAT', 'NRC_FOCUS', 'NRC_GRISM', 'NRC_IMAGE', 'NRC_WFSS', 'NRC_LED', 'NRC_WFSC', 'NRC_TACONFIRM', 'NRC_TACQ', 'NRC_TSGRISM', 'NRC_TSIMAGE', 'NRS_AUTOFLAT', 'NRS_AUTOWAVE', 'NRS_BRIGHTOBJ', 'NRS_CONFIRM', 'NRS_DARK', 'NRS_FIXEDSLIT', 'NRS_FOCUS', 'NRS_IFU', 'NRS_IMAGE', 'NRS_LAMP', 'NRS_MIMF', 'NRS_MSASPEC', 'NRS_MSATA', 'NRS_TACONFIRM', 'NRS_TACQ', 'NRS_TASLIT', 'NRS_VERIFY', 'NRS_WATA', 'N/A', 'ANY']\n",
      "\n",
      "Failed validating 'enum' in schema:\n",
      "    OrderedDict([('title', 'Type of data in the exposure'),\n",
      "                 ('type', 'string'),\n",
      "                 ('enum',\n",
      "                  ['FGS_DARK',\n",
      "                   'FGS_FOCUS',\n",
      "                   'FGS_IMAGE',\n",
      "                   'FGS_INTFLAT',\n",
      "                   'FGS_SKYFLAT',\n",
      "                   'FGS_ACQ1',\n",
      "                   'FGS_ACQ2',\n",
      "                   'FGS_FINEGUIDE',\n",
      "                   'FGS_ID-IMAGE',\n",
      "                   'FGS_ID-STACK',\n",
      "                   'FGS_TRACK',\n",
      "                   'MIR_4QPM',\n",
      "                   'MIR_CORONCAL',\n",
      "                   'MIR_DARKALL',\n",
      "                   'MIR_DARKIMG',\n",
      "                   'MIR_DARKMRS',\n",
      "                   'MIR_FLATIMAGE',\n",
      "                   'MIR_FLATIMAGE-EXT',\n",
      "                   'MIR_FLATMRS',\n",
      "                   'MIR_FLATMRS-EXT',\n",
      "                   'MIR_IMAGE',\n",
      "                   'MIR_LRS-FIXEDSLIT',\n",
      "                   'MIR_LRS-SLITLESS',\n",
      "                   'MIR_LYOT',\n",
      "                   'M ...\n",
      "  warnings.warn(errmsg, ValidationWarning)\n",
      "\n",
      "2021-11-19 12:26:15,199 - stpipe - WARNING - e:\\STScI\\gitRepos\\astrogrism\\envmain\\lib\\site-packages\\stdatamodels\\validate.py:34: ValidationWarning: While validating exposure the following error occurred:\n",
      "'WFC3_IR' is not one of ['FGS_DARK', 'FGS_FOCUS', 'FGS_IMAGE', 'FGS_INTFLAT', 'FGS_SKYFLAT', 'FGS_ACQ1', 'FGS_ACQ2', 'FGS_FINEGUIDE', 'FGS_ID-IMAGE', 'FGS_ID-STACK', 'FGS_TRACK', 'MIR_4QPM', 'MIR_CORONCAL', 'MIR_DARKALL', 'MIR_DARKIMG', 'MIR_DARKMRS', 'MIR_FLATIMAGE', 'MIR_FLATIMAGE-EXT', 'MIR_FLATMRS', 'MIR_FLATMRS-EXT', 'MIR_IMAGE', 'MIR_LRS-FIXEDSLIT', 'MIR_LRS-SLITLESS', 'MIR_LYOT', 'MIR_MRS', 'MIR_TACONFIRM', 'MIR_TACQ', 'NIS_AMI', 'NIS_DARK', 'NIS_EXTCAL', 'NIS_FOCUS', 'NIS_IMAGE', 'NIS_LAMP', 'NIS_SOSS', 'NIS_TACQ', 'NIS_TACONFIRM', 'NIS_WFSS', 'NRC_CORON', 'NRC_DARK', 'NRC_FLAT', 'NRC_FOCUS', 'NRC_GRISM', 'NRC_IMAGE', 'NRC_WFSS', 'NRC_LED', 'NRC_WFSC', 'NRC_TACONFIRM', 'NRC_TACQ', 'NRC_TSGRISM', 'NRC_TSIMAGE', 'NRS_AUTOFLAT', 'NRS_AUTOWAVE', 'NRS_BRIGHTOBJ', 'NRS_CONFIRM', 'NRS_DARK', 'NRS_FIXEDSLIT', 'NRS_FOCUS', 'NRS_IFU', 'NRS_IMAGE', 'NRS_LAMP', 'NRS_MIMF', 'NRS_MSASPEC', 'NRS_MSATA', 'NRS_TACONFIRM', 'NRS_TACQ', 'NRS_TASLIT', 'NRS_VERIFY', 'NRS_WATA', 'N/A', 'ANY']\n",
      "\n",
      "Failed validating 'enum' in schema['properties']['type']:\n",
      "    OrderedDict([('title', 'Type of data in the exposure'),\n",
      "                 ('type', 'string'),\n",
      "                 ('enum',\n",
      "                  ['FGS_DARK',\n",
      "                   'FGS_FOCUS',\n",
      "                   'FGS_IMAGE',\n",
      "                   'FGS_INTFLAT',\n",
      "                   'FGS_SKYFLAT',\n",
      "                   'FGS_ACQ1',\n",
      "                   'FGS_ACQ2',\n",
      "                   'FGS_FINEGUIDE',\n",
      "                   'FGS_ID-IMAGE',\n",
      "                   'FGS_ID-STACK',\n",
      "                   'FGS_TRACK',\n",
      "                   'MIR_4QPM',\n",
      "                   'MIR_CORONCAL',\n",
      "                   'MIR_DARKALL',\n",
      "                   'MIR_DARKIMG',\n",
      "                   'MIR_DARKMRS',\n",
      "                   'MIR_FLATIMAGE',\n",
      "                   'MIR_FLATIMAGE-EXT',\n",
      "                   'MIR_FLATMRS',\n",
      "                   'MIR_FLATMRS-EXT',\n",
      "                   'MIR_IMAGE',\n",
      "                   'MIR_LRS-FIXEDSLIT',\n",
      "                   'MIR_LRS-SLITLESS',\n",
      "                   'MIR_LYOT',\n",
      " ...\n",
      "  warnings.warn(errmsg, ValidationWarning)\n",
      "\n",
      "2021-11-19 12:26:15,314 - stpipe - WARNING - e:\\stsci\\gitrepos\\astrogrism\\astrogrism\\config\\HST\\reference_file_generators\\wcs_ref_model.py:85: ValidationWarning: \n",
      "  warnings.warn(str(errmsg), ValidationWarning)\n",
      "\n"
     ]
    }
   ],
   "source": [
    "create_reference_files(conf_filepath, hst_grism, outpath=output_directory)"
   ]
  },
  {
   "cell_type": "code",
   "execution_count": 6,
   "metadata": {},
   "outputs": [
    {
     "data": {
      "text/plain": [
       "[WindowsPath('C:/Users/Duy/AppData/Local/Temp/tmp6rytnkhb/HST_specwcs'),\n",
       " WindowsPath('C:/Users/Duy/AppData/Local/Temp/tmp6rytnkhb/HST_wavelengthrange.asdf')]"
      ]
     },
     "execution_count": 6,
     "metadata": {},
     "output_type": "execute_result"
    }
   ],
   "source": [
    "list(output_directory.iterdir())"
   ]
  },
  {
   "cell_type": "code",
   "execution_count": null,
   "metadata": {},
   "outputs": [],
   "source": []
  }
 ],
 "metadata": {
  "interpreter": {
   "hash": "c1b8eeb265bb702460e9a0e61a4fe50ff7962bcd9116c5590f80d7fa70707d88"
  },
  "kernelspec": {
   "display_name": "Python 3.9.7 64-bit ('envmain': venv)",
   "name": "python3"
  },
  "language_info": {
   "codemirror_mode": {
    "name": "ipython",
    "version": 3
   },
   "file_extension": ".py",
   "mimetype": "text/x-python",
   "name": "python",
   "nbconvert_exporter": "python",
   "pygments_lexer": "ipython3",
   "version": "3.9.7"
  }
 },
 "nbformat": 4,
 "nbformat_minor": 5
}
