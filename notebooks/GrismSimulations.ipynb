{
 "cells": [
  {
   "cell_type": "markdown",
   "id": "185ad265",
   "metadata": {},
   "source": [
    "# Generate a Synthetic Spectrum\n",
    "This notebook demonstrates the capabilities of the new `simulate` module in Astrogrism. Astrogrism utilises `STSynphot` to generate an observation of Vega through a given grism. To generate this spectrum:"
   ]
  },
  {
   "cell_type": "code",
   "execution_count": null,
   "id": "f3ddbb77",
   "metadata": {},
   "outputs": [],
   "source": [
    "from astrogrism.simulate import generate_simulation_spectrum"
   ]
  },
  {
   "cell_type": "code",
   "execution_count": null,
   "id": "50533a78",
   "metadata": {},
   "outputs": [],
   "source": [
    "simulated_spectrum = generate_simulation_spectrum('G280', detector=1)"
   ]
  }
 ],
 "metadata": {
  "kernelspec": {
   "display_name": "Python 3 (ipykernel)",
   "language": "python",
   "name": "python3"
  },
  "language_info": {
   "codemirror_mode": {
    "name": "ipython",
    "version": 3
   },
   "file_extension": ".py",
   "mimetype": "text/x-python",
   "name": "python",
   "nbconvert_exporter": "python",
   "pygments_lexer": "ipython3",
   "version": "3.9.7"
  }
 },
 "nbformat": 4,
 "nbformat_minor": 5
}
