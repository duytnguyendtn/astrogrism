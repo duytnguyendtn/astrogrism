{
 "cells": [
  {
   "cell_type": "code",
   "execution_count": 1,
   "id": "f8133c30",
   "metadata": {},
   "outputs": [
    {
     "name": "stderr",
     "output_type": "stream",
     "text": [
      "WARNING: Failed to load Vega spectrum from /grp/redcat/trds\\calspec\\alpha_lyr_stis_010.fits; Functionality involving Vega will be cripped: FileNotFoundError(2, 'No such file or directory') [stsynphot.spectrum]\n",
      "WARNING:astropy:Failed to load Vega spectrum from /grp/redcat/trds\\calspec\\alpha_lyr_stis_010.fits; Functionality involving Vega will be cripped: FileNotFoundError(2, 'No such file or directory')\n"
     ]
    }
   ],
   "source": [
    "from pathlib import Path\n",
    "\n",
    "from astropy.io import fits\n",
    "from astropy.utils.data import download_file\n",
    "from jdaviz import Imviz\n",
    "\n",
    "from astrogrism.simulate import simulate_grism"
   ]
  },
  {
   "cell_type": "code",
   "execution_count": 2,
   "id": "b7d63ff1",
   "metadata": {},
   "outputs": [
    {
     "data": {
      "application/vnd.jupyter.widget-view+json": {
       "model_id": "84a02aeb48e44f34969b9c59fe550faa",
       "version_major": 2,
       "version_minor": 0
      },
      "text/plain": [
       "Application(config='imviz', events=['call_viewer_method', 'close_snackbar_message', 'data_item_selected', 'des…"
      ]
     },
     "metadata": {},
     "output_type": "display_data"
    }
   ],
   "source": [
    "viz = Imviz()\n",
    "viz.app"
   ]
  },
  {
   "cell_type": "code",
   "execution_count": 3,
   "id": "995d925c",
   "metadata": {},
   "outputs": [],
   "source": [
    "file_path = Path('E:\\\\STScI\\\\gitRepos\\\\astrogrism\\\\ie7r01ddq_drz.fits')\n",
    "#file_path = Path(download_file('https://mast.stsci.edu/api/v0.1/Download/file?uri=mast:HST/product/jbqf03gjq_flc.fits'))\n",
    "file_path.is_file()\n",
    "viz.load_data(str(file_path), data_label=\"Widefieldimage\")"
   ]
  },
  {
   "cell_type": "code",
   "execution_count": 4,
   "id": "50533a78",
   "metadata": {},
   "outputs": [
    {
     "name": "stdout",
     "output_type": "stream",
     "text": [
      "(484, 543, 10)\n"
     ]
    },
    {
     "ename": "ValueError",
     "evalue": "Input WCS must have exactly one axis with spectral units, found 0",
     "output_type": "error",
     "traceback": [
      "\u001b[1;31m---------------------------------------------------------------------------\u001b[0m",
      "\u001b[1;31mValueError\u001b[0m                                Traceback (most recent call last)",
      "\u001b[1;32m~\\AppData\\Local\\Temp/ipykernel_4928/1125170016.py\u001b[0m in \u001b[0;36m<module>\u001b[1;34m\u001b[0m\n\u001b[1;32m----> 1\u001b[1;33m \u001b[0msimulate_grism\u001b[0m\u001b[1;33m(\u001b[0m\u001b[1;34m'G141'\u001b[0m\u001b[1;33m,\u001b[0m \u001b[0mfits\u001b[0m\u001b[1;33m.\u001b[0m\u001b[0mopen\u001b[0m\u001b[1;33m(\u001b[0m\u001b[0mfile_path\u001b[0m\u001b[1;33m)\u001b[0m\u001b[1;33m)\u001b[0m\u001b[1;33m\u001b[0m\u001b[1;33m\u001b[0m\u001b[0m\n\u001b[0m",
      "\u001b[1;32me:\\stsci\\gitrepos\\astrogrism\\astrogrism\\simulate\\simulate.py\u001b[0m in \u001b[0;36msimulate_grism\u001b[1;34m(grism, wide_field_image)\u001b[0m\n\u001b[0;32m     43\u001b[0m \u001b[1;32mdef\u001b[0m \u001b[0msimulate_grism\u001b[0m\u001b[1;33m(\u001b[0m\u001b[0mgrism\u001b[0m\u001b[1;33m,\u001b[0m \u001b[0mwide_field_image\u001b[0m\u001b[1;33m)\u001b[0m\u001b[1;33m:\u001b[0m\u001b[1;33m\u001b[0m\u001b[1;33m\u001b[0m\u001b[0m\n\u001b[0;32m     44\u001b[0m     \u001b[0mspectrum\u001b[0m \u001b[1;33m=\u001b[0m \u001b[0m_generate_simulation_spectrum\u001b[0m\u001b[1;33m(\u001b[0m\u001b[0mgrism\u001b[0m\u001b[1;33m)\u001b[0m\u001b[1;33m\u001b[0m\u001b[1;33m\u001b[0m\u001b[0m\n\u001b[1;32m---> 45\u001b[1;33m     tiled_spectrum = _create_simulation_cube(spectrum,\n\u001b[0m\u001b[0;32m     46\u001b[0m                                              \u001b[0mwide_field_image\u001b[0m\u001b[1;33m[\u001b[0m\u001b[1;34m'SCI'\u001b[0m\u001b[1;33m]\u001b[0m\u001b[1;33m.\u001b[0m\u001b[0mdata\u001b[0m\u001b[1;33m.\u001b[0m\u001b[0mshape\u001b[0m\u001b[1;33m,\u001b[0m\u001b[1;33m\u001b[0m\u001b[1;33m\u001b[0m\u001b[0m\n\u001b[0;32m     47\u001b[0m                                              WCS(wide_field_image['SCI'].header))\n",
      "\u001b[1;32me:\\stsci\\gitrepos\\astrogrism\\astrogrism\\simulate\\simulate.py\u001b[0m in \u001b[0;36m_create_simulation_cube\u001b[1;34m(spectrum, shape, wcs)\u001b[0m\n\u001b[0;32m     27\u001b[0m     \u001b[0mdata\u001b[0m \u001b[1;33m=\u001b[0m \u001b[0mnp\u001b[0m\u001b[1;33m.\u001b[0m\u001b[0mtile\u001b[0m\u001b[1;33m(\u001b[0m\u001b[0mspectrum\u001b[0m\u001b[1;33m.\u001b[0m\u001b[0mflux\u001b[0m\u001b[1;33m.\u001b[0m\u001b[0mvalue\u001b[0m \u001b[1;33m*\u001b[0m \u001b[0mspectrum\u001b[0m\u001b[1;33m.\u001b[0m\u001b[0mflux\u001b[0m\u001b[1;33m.\u001b[0m\u001b[0munit\u001b[0m\u001b[1;33m,\u001b[0m \u001b[1;33m(\u001b[0m\u001b[0mshape\u001b[0m\u001b[1;33m[\u001b[0m\u001b[1;36m0\u001b[0m\u001b[1;33m]\u001b[0m\u001b[1;33m,\u001b[0m \u001b[0mshape\u001b[0m\u001b[1;33m[\u001b[0m\u001b[1;36m1\u001b[0m\u001b[1;33m]\u001b[0m\u001b[1;33m,\u001b[0m \u001b[1;36m1\u001b[0m\u001b[1;33m)\u001b[0m\u001b[1;33m)\u001b[0m\u001b[1;33m\u001b[0m\u001b[1;33m\u001b[0m\u001b[0m\n\u001b[0;32m     28\u001b[0m     \u001b[0mprint\u001b[0m\u001b[1;33m(\u001b[0m\u001b[0mdata\u001b[0m\u001b[1;33m.\u001b[0m\u001b[0mshape\u001b[0m\u001b[1;33m)\u001b[0m\u001b[1;33m\u001b[0m\u001b[1;33m\u001b[0m\u001b[0m\n\u001b[1;32m---> 29\u001b[1;33m     \u001b[1;32mreturn\u001b[0m \u001b[0mSpectrum1D\u001b[0m\u001b[1;33m(\u001b[0m\u001b[0mflux\u001b[0m\u001b[1;33m=\u001b[0m\u001b[0mdata\u001b[0m\u001b[1;33m,\u001b[0m \u001b[0mspectral_axis\u001b[0m\u001b[1;33m=\u001b[0m\u001b[0mspectrum\u001b[0m\u001b[1;33m.\u001b[0m\u001b[0mspectral_axis\u001b[0m\u001b[1;33m,\u001b[0m \u001b[0mwcs\u001b[0m\u001b[1;33m=\u001b[0m\u001b[0mwcs\u001b[0m\u001b[1;33m)\u001b[0m\u001b[1;33m\u001b[0m\u001b[1;33m\u001b[0m\u001b[0m\n\u001b[0m\u001b[0;32m     30\u001b[0m \u001b[1;33m\u001b[0m\u001b[0m\n\u001b[0;32m     31\u001b[0m \u001b[1;33m\u001b[0m\u001b[0m\n",
      "\u001b[1;32mE:\\STScI\\gitRepos\\astrogrism\\envmain\\lib\\site-packages\\specutils\\spectra\\spectrum1d.py\u001b[0m in \u001b[0;36m__init__\u001b[1;34m(self, flux, spectral_axis, wcs, velocity_convention, rest_value, redshift, radial_velocity, bin_specification, **kwargs)\u001b[0m\n\u001b[0;32m    197\u001b[0m                         \u001b[0mtemp_axes\u001b[0m\u001b[1;33m.\u001b[0m\u001b[0mappend\u001b[0m\u001b[1;33m(\u001b[0m\u001b[0mi\u001b[0m\u001b[1;33m)\u001b[0m\u001b[1;33m\u001b[0m\u001b[1;33m\u001b[0m\u001b[0m\n\u001b[0;32m    198\u001b[0m                 \u001b[1;32mif\u001b[0m \u001b[0mlen\u001b[0m\u001b[1;33m(\u001b[0m\u001b[0mtemp_axes\u001b[0m\u001b[1;33m)\u001b[0m \u001b[1;33m!=\u001b[0m \u001b[1;36m1\u001b[0m\u001b[1;33m:\u001b[0m\u001b[1;33m\u001b[0m\u001b[1;33m\u001b[0m\u001b[0m\n\u001b[1;32m--> 199\u001b[1;33m                     raise ValueError(\"Input WCS must have exactly one axis with \"\n\u001b[0m\u001b[0;32m    200\u001b[0m                                      \"spectral units, found {}\".format(len(temp_axes)))\n\u001b[0;32m    201\u001b[0m \u001b[1;33m\u001b[0m\u001b[0m\n",
      "\u001b[1;31mValueError\u001b[0m: Input WCS must have exactly one axis with spectral units, found 0"
     ]
    }
   ],
   "source": [
    "simulate_grism('G141', fits.open(file_path))"
   ]
  },
  {
   "cell_type": "code",
   "execution_count": null,
   "id": "3eb879e1-4dcc-42cd-8911-08b52c4a61ec",
   "metadata": {},
   "outputs": [],
   "source": [
    "from astropy.wcs import WCS\n",
    "x = WCS(fits.open(file_path)['SCI'].header)\n",
    "x"
   ]
  },
  {
   "cell_type": "code",
   "execution_count": null,
   "id": "b1888709-ca42-4fd1-9641-fc2de1bdc39d",
   "metadata": {},
   "outputs": [],
   "source": [
    "dir(x)"
   ]
  },
  {
   "cell_type": "code",
   "execution_count": null,
   "id": "96083f6b-efe5-4cf2-a0da-c520a222f7f1",
   "metadata": {},
   "outputs": [],
   "source": [
    "x['CDELT1']"
   ]
  },
  {
   "cell_type": "code",
   "execution_count": null,
   "id": "432c3d96-a799-47dc-9bf5-b677c80b4bdf",
   "metadata": {},
   "outputs": [],
   "source": []
  }
 ],
 "metadata": {
  "kernelspec": {
   "display_name": "Python 3 (ipykernel)",
   "language": "python",
   "name": "python3"
  },
  "language_info": {
   "codemirror_mode": {
    "name": "ipython",
    "version": 3
   },
   "file_extension": ".py",
   "mimetype": "text/x-python",
   "name": "python",
   "nbconvert_exporter": "python",
   "pygments_lexer": "ipython3",
   "version": "3.9.7"
  }
 },
 "nbformat": 4,
 "nbformat_minor": 5
}
